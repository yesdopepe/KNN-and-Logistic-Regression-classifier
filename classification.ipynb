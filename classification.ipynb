# %% [code] {"jupyter":{"outputs_hidden":false},"execution":{"iopub.status.busy":"2024-04-26T10:08:55.518479Z","iopub.execute_input":"2024-04-26T10:08:55.518981Z","iopub.status.idle":"2024-04-26T10:08:56.747994Z","shell.execute_reply.started":"2024-04-26T10:08:55.518948Z","shell.execute_reply":"2024-04-26T10:08:56.747053Z"}}
# This Python 3 environment comes with many helpful analytics libraries installed
# It is defined by the kaggle/python Docker image: https://github.com/kaggle/docker-python
# For example, here's several helpful packages to load

import numpy as np # linear algebra
import pandas as pd # data processing, CSV file I/O (e.g. pd.read_csv)
import matplotlib.pyplot as plt
# Input data files are available in the read-only "../input/" directory
# For example, running this (by clicking run or pressing Shift+Enter) will list all files under the input directory

df = pd.read_csv('/kaggle/input/iris/Iris.csv')

# You can write up to 20GB to the current directory (/kaggle/working/) that gets preserved as output when you create a version using "Save & Run All" 
# You can also write temporary files to /kaggle/temp/, but they won't be saved outside of the current session

# %% [code] {"jupyter":{"outputs_hidden":false},"execution":{"iopub.status.busy":"2024-04-26T10:08:56.749530Z","iopub.execute_input":"2024-04-26T10:08:56.750285Z","iopub.status.idle":"2024-04-26T10:08:56.780351Z","shell.execute_reply.started":"2024-04-26T10:08:56.750244Z","shell.execute_reply":"2024-04-26T10:08:56.779163Z"}}
df.head()

# %% [code] {"jupyter":{"outputs_hidden":false},"execution":{"iopub.status.busy":"2024-04-26T10:08:56.781672Z","iopub.execute_input":"2024-04-26T10:08:56.781962Z","iopub.status.idle":"2024-04-26T10:08:56.795757Z","shell.execute_reply.started":"2024-04-26T10:08:56.781938Z","shell.execute_reply":"2024-04-26T10:08:56.794155Z"}}
df.isnull().sum()

# %% [code] {"jupyter":{"outputs_hidden":false},"execution":{"iopub.status.busy":"2024-04-26T10:08:56.798503Z","iopub.execute_input":"2024-04-26T10:08:56.799257Z","iopub.status.idle":"2024-04-26T10:08:56.812142Z","shell.execute_reply.started":"2024-04-26T10:08:56.799222Z","shell.execute_reply":"2024-04-26T10:08:56.810538Z"}}
df = df.drop("Id",axis=1)

# %% [code] {"jupyter":{"outputs_hidden":false},"execution":{"iopub.status.busy":"2024-04-26T10:08:56.813622Z","iopub.execute_input":"2024-04-26T10:08:56.814009Z","iopub.status.idle":"2024-04-26T10:08:57.006990Z","shell.execute_reply.started":"2024-04-26T10:08:56.813979Z","shell.execute_reply":"2024-04-26T10:08:57.005762Z"}}
unique_values = df["Species"].value_counts()
plt.pie(unique_values,labels=unique_values.index)
plt.show()
print(unique_values)

# %% [code] {"execution":{"iopub.status.busy":"2024-04-26T10:11:16.173742Z","iopub.execute_input":"2024-04-26T10:11:16.174608Z","iopub.status.idle":"2024-04-26T10:11:18.730863Z","shell.execute_reply.started":"2024-04-26T10:11:16.174563Z","shell.execute_reply":"2024-04-26T10:11:18.729765Z"}}
species_group = df.groupby("Species")
species_group.plot(subplots=True)
plt.show()

# %% [code] {"jupyter":{"outputs_hidden":false},"execution":{"iopub.status.busy":"2024-04-26T10:12:01.350109Z","iopub.execute_input":"2024-04-26T10:12:01.350568Z","iopub.status.idle":"2024-04-26T10:12:01.610557Z","shell.execute_reply.started":"2024-04-26T10:12:01.350528Z","shell.execute_reply":"2024-04-26T10:12:01.608990Z"}}
df.boxplot()
plt.show()

# %% [code] {"jupyter":{"outputs_hidden":false},"execution":{"iopub.status.busy":"2024-04-26T10:08:58.915265Z","iopub.status.idle":"2024-04-26T10:08:58.915889Z","shell.execute_reply.started":"2024-04-26T10:08:58.915588Z","shell.execute_reply":"2024-04-26T10:08:58.915614Z"}}
X = df.iloc[:,:-1]
Y = df.iloc[:,-1]

# %% [code] {"jupyter":{"outputs_hidden":false},"execution":{"iopub.status.busy":"2024-04-26T10:08:58.917835Z","iopub.status.idle":"2024-04-26T10:08:58.918467Z","shell.execute_reply.started":"2024-04-26T10:08:58.918143Z","shell.execute_reply":"2024-04-26T10:08:58.918169Z"}}
from sklearn.model_selection import train_test_split
X_train,X_test,Y_train,Y_test = train_test_split(X,Y, test_size=0.2,random_state=100)
from sklearn.neighbors import KNeighborsClassifier as KNN
classifier = KNN(n_neighbors=7)
classifier.fit(X_train,Y_train)

# %% [code] {"jupyter":{"outputs_hidden":false},"execution":{"iopub.status.busy":"2024-04-26T10:08:58.920171Z","iopub.status.idle":"2024-04-26T10:08:58.920765Z","shell.execute_reply.started":"2024-04-26T10:08:58.920466Z","shell.execute_reply":"2024-04-26T10:08:58.920489Z"}}
from sklearn import metrics
predicted = classifier.predict(X_test)
confusion_matrix = metrics.confusion_matrix(Y_test, predicted)
cm_display = metrics.ConfusionMatrixDisplay(confusion_matrix = confusion_matrix)
cm_display.plot()
plt.show()

# %% [code] {"jupyter":{"outputs_hidden":false},"execution":{"iopub.status.busy":"2024-04-26T10:08:58.922521Z","iopub.status.idle":"2024-04-26T10:08:58.922973Z","shell.execute_reply.started":"2024-04-26T10:08:58.922754Z","shell.execute_reply":"2024-04-26T10:08:58.922774Z"}}
report = metrics.classification_report(Y_test, predicted)
print(report)

# %% [code] {"jupyter":{"outputs_hidden":false},"execution":{"iopub.status.busy":"2024-04-26T10:08:58.924403Z","iopub.status.idle":"2024-04-26T10:08:58.924835Z","shell.execute_reply.started":"2024-04-26T10:08:58.924623Z","shell.execute_reply":"2024-04-26T10:08:58.924640Z"}}
from sklearn.linear_model import LogisticRegression
logisticRegressor = LogisticRegression(max_iter=1000)
logisticRegressor.fit(X_train,Y_train)
predicted_2 = logisticRegressor.predict(X_test)
confusion_matrix = metrics.confusion_matrix(Y_test, predicted_2)
cm_display = metrics.ConfusionMatrixDisplay(confusion_matrix = confusion_matrix)
cm_display.plot()
plt.show()

# %% [code] {"jupyter":{"outputs_hidden":false},"execution":{"iopub.status.busy":"2024-04-26T10:08:58.926956Z","iopub.status.idle":"2024-04-26T10:08:58.927406Z","shell.execute_reply.started":"2024-04-26T10:08:58.927207Z","shell.execute_reply":"2024-04-26T10:08:58.927226Z"}}
report = metrics.classification_report(Y_test, predicted_2)
print(report)